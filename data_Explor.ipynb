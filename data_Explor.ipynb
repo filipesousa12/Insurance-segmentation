{
 "cells": [
  {
   "cell_type": "code",
   "execution_count": 1,
   "metadata": {},
   "outputs": [],
   "source": [
    "\n",
    "import pandas as pd\n",
    "from sklearn.impute import SimpleImputer\n",
    "from sklearn.compose import ColumnTransformer\n",
    "from sklearn.preprocessing import OneHotEncoder\n",
    "from sklearn.preprocessing import LabelEncoder\n",
    "from sklearn.model_selection import train_test_split\n",
    "from sklearn.preprocessing import StandardScaler\n",
    "from pandas_profiling import ProfileReport\n",
    "import seaborn as sns\n",
    "import matplotlib.pyplot as plt\n",
    "import matplotlib\n",
    "import numpy as np\n",
    "from dython import nominal\n",
    "from sklearn.preprocessing import OrdinalEncoder"
   ]
  },
  {
   "cell_type": "code",
   "execution_count": 2,
   "metadata": {},
   "outputs": [],
   "source": [
    "\n",
    "df = pd.read_excel('Sense Assurance Dataset.xlsx')"
   ]
  },
  {
   "cell_type": "code",
   "execution_count": 3,
   "metadata": {},
   "outputs": [
    {
     "data": {
      "text/html": [
       "<div>\n",
       "<style scoped>\n",
       "    .dataframe tbody tr th:only-of-type {\n",
       "        vertical-align: middle;\n",
       "    }\n",
       "\n",
       "    .dataframe tbody tr th {\n",
       "        vertical-align: top;\n",
       "    }\n",
       "\n",
       "    .dataframe thead th {\n",
       "        text-align: right;\n",
       "    }\n",
       "</style>\n",
       "<table border=\"1\" class=\"dataframe\">\n",
       "  <thead>\n",
       "    <tr style=\"text-align: right;\">\n",
       "      <th></th>\n",
       "      <th>First Policy´s Year</th>\n",
       "      <th>Customer Age</th>\n",
       "      <th>Educational Degree</th>\n",
       "      <th>Gross Monthly Salary</th>\n",
       "      <th>Geographic Living Area</th>\n",
       "      <th>Has Children (Y=1)</th>\n",
       "      <th>Customer Monetary Value</th>\n",
       "      <th>Claims Rate</th>\n",
       "      <th>Premiums in LOB: Motor</th>\n",
       "      <th>Premiums in LOB: Household</th>\n",
       "      <th>Premiums in LOB: Health</th>\n",
       "      <th>Premiums in LOB:  Life</th>\n",
       "      <th>Premiums in LOB: Work Compensations</th>\n",
       "    </tr>\n",
       "  </thead>\n",
       "  <tbody>\n",
       "    <tr>\n",
       "      <th>0</th>\n",
       "      <td>1985.0</td>\n",
       "      <td>34.0</td>\n",
       "      <td>2 - High School</td>\n",
       "      <td>4354.0</td>\n",
       "      <td>1.0</td>\n",
       "      <td>1.0</td>\n",
       "      <td>380.97</td>\n",
       "      <td>0.390032</td>\n",
       "      <td>375.85</td>\n",
       "      <td>79.45</td>\n",
       "      <td>146.36</td>\n",
       "      <td>47.01</td>\n",
       "      <td>16.89</td>\n",
       "    </tr>\n",
       "    <tr>\n",
       "      <th>1</th>\n",
       "      <td>1981.0</td>\n",
       "      <td>21.0</td>\n",
       "      <td>2 - High School</td>\n",
       "      <td>1353.0</td>\n",
       "      <td>4.0</td>\n",
       "      <td>1.0</td>\n",
       "      <td>-131.13</td>\n",
       "      <td>1.116503</td>\n",
       "      <td>77.46</td>\n",
       "      <td>416.20</td>\n",
       "      <td>116.69</td>\n",
       "      <td>194.48</td>\n",
       "      <td>106.13</td>\n",
       "    </tr>\n",
       "    <tr>\n",
       "      <th>2</th>\n",
       "      <td>1991.0</td>\n",
       "      <td>46.0</td>\n",
       "      <td>1 - Basic</td>\n",
       "      <td>4554.0</td>\n",
       "      <td>3.0</td>\n",
       "      <td>0.0</td>\n",
       "      <td>504.67</td>\n",
       "      <td>0.284810</td>\n",
       "      <td>206.15</td>\n",
       "      <td>224.50</td>\n",
       "      <td>124.58</td>\n",
       "      <td>86.35</td>\n",
       "      <td>99.02</td>\n",
       "    </tr>\n",
       "    <tr>\n",
       "      <th>3</th>\n",
       "      <td>1990.0</td>\n",
       "      <td>35.0</td>\n",
       "      <td>3 - BSc/MSc</td>\n",
       "      <td>2197.0</td>\n",
       "      <td>4.0</td>\n",
       "      <td>1.0</td>\n",
       "      <td>-16.99</td>\n",
       "      <td>0.986665</td>\n",
       "      <td>182.48</td>\n",
       "      <td>43.35</td>\n",
       "      <td>311.17</td>\n",
       "      <td>35.34</td>\n",
       "      <td>28.34</td>\n",
       "    </tr>\n",
       "    <tr>\n",
       "      <th>4</th>\n",
       "      <td>1986.0</td>\n",
       "      <td>43.0</td>\n",
       "      <td>3 - BSc/MSc</td>\n",
       "      <td>3526.0</td>\n",
       "      <td>4.0</td>\n",
       "      <td>1.0</td>\n",
       "      <td>35.23</td>\n",
       "      <td>0.904281</td>\n",
       "      <td>338.62</td>\n",
       "      <td>47.80</td>\n",
       "      <td>182.59</td>\n",
       "      <td>18.78</td>\n",
       "      <td>41.45</td>\n",
       "    </tr>\n",
       "    <tr>\n",
       "      <th>5</th>\n",
       "      <td>1986.0</td>\n",
       "      <td>60.0</td>\n",
       "      <td>2 - High School</td>\n",
       "      <td>5132.0</td>\n",
       "      <td>4.0</td>\n",
       "      <td>1.0</td>\n",
       "      <td>-24.33</td>\n",
       "      <td>0.998863</td>\n",
       "      <td>440.75</td>\n",
       "      <td>18.90</td>\n",
       "      <td>114.80</td>\n",
       "      <td>7.00</td>\n",
       "      <td>7.67</td>\n",
       "    </tr>\n",
       "    <tr>\n",
       "      <th>6</th>\n",
       "      <td>1979.0</td>\n",
       "      <td>73.0</td>\n",
       "      <td>2 - High School</td>\n",
       "      <td>8205.0</td>\n",
       "      <td>4.0</td>\n",
       "      <td>0.0</td>\n",
       "      <td>-66.01</td>\n",
       "      <td>1.050537</td>\n",
       "      <td>156.92</td>\n",
       "      <td>295.60</td>\n",
       "      <td>317.95</td>\n",
       "      <td>14.67</td>\n",
       "      <td>26.34</td>\n",
       "    </tr>\n",
       "    <tr>\n",
       "      <th>7</th>\n",
       "      <td>1988.0</td>\n",
       "      <td>42.0</td>\n",
       "      <td>2 - High School</td>\n",
       "      <td>3485.0</td>\n",
       "      <td>4.0</td>\n",
       "      <td>1.0</td>\n",
       "      <td>-144.91</td>\n",
       "      <td>1.131792</td>\n",
       "      <td>248.27</td>\n",
       "      <td>397.30</td>\n",
       "      <td>144.36</td>\n",
       "      <td>66.68</td>\n",
       "      <td>53.23</td>\n",
       "    </tr>\n",
       "    <tr>\n",
       "      <th>8</th>\n",
       "      <td>1981.0</td>\n",
       "      <td>38.0</td>\n",
       "      <td>3 - BSc/MSc</td>\n",
       "      <td>3723.0</td>\n",
       "      <td>1.0</td>\n",
       "      <td>1.0</td>\n",
       "      <td>356.53</td>\n",
       "      <td>0.355055</td>\n",
       "      <td>344.51</td>\n",
       "      <td>18.35</td>\n",
       "      <td>210.04</td>\n",
       "      <td>8.78</td>\n",
       "      <td>9.89</td>\n",
       "    </tr>\n",
       "    <tr>\n",
       "      <th>9</th>\n",
       "      <td>1976.0</td>\n",
       "      <td>68.0</td>\n",
       "      <td>3 - BSc/MSc</td>\n",
       "      <td>7684.0</td>\n",
       "      <td>1.0</td>\n",
       "      <td>0.0</td>\n",
       "      <td>-119.35</td>\n",
       "      <td>1.124505</td>\n",
       "      <td>209.26</td>\n",
       "      <td>182.25</td>\n",
       "      <td>271.94</td>\n",
       "      <td>39.23</td>\n",
       "      <td>55.12</td>\n",
       "    </tr>\n",
       "  </tbody>\n",
       "</table>\n",
       "</div>"
      ],
      "text/plain": [
       "   First Policy´s Year  Customer Age Educational Degree  Gross Monthly Salary  \\\n",
       "0               1985.0          34.0    2 - High School                4354.0   \n",
       "1               1981.0          21.0    2 - High School                1353.0   \n",
       "2               1991.0          46.0          1 - Basic                4554.0   \n",
       "3               1990.0          35.0        3 - BSc/MSc                2197.0   \n",
       "4               1986.0          43.0        3 - BSc/MSc                3526.0   \n",
       "5               1986.0          60.0    2 - High School                5132.0   \n",
       "6               1979.0          73.0    2 - High School                8205.0   \n",
       "7               1988.0          42.0    2 - High School                3485.0   \n",
       "8               1981.0          38.0        3 - BSc/MSc                3723.0   \n",
       "9               1976.0          68.0        3 - BSc/MSc                7684.0   \n",
       "\n",
       "   Geographic Living Area  Has Children (Y=1)  Customer Monetary Value  \\\n",
       "0                     1.0                 1.0                   380.97   \n",
       "1                     4.0                 1.0                  -131.13   \n",
       "2                     3.0                 0.0                   504.67   \n",
       "3                     4.0                 1.0                   -16.99   \n",
       "4                     4.0                 1.0                    35.23   \n",
       "5                     4.0                 1.0                   -24.33   \n",
       "6                     4.0                 0.0                   -66.01   \n",
       "7                     4.0                 1.0                  -144.91   \n",
       "8                     1.0                 1.0                   356.53   \n",
       "9                     1.0                 0.0                  -119.35   \n",
       "\n",
       "   Claims Rate  Premiums in LOB: Motor  Premiums in LOB: Household  \\\n",
       "0     0.390032                  375.85                       79.45   \n",
       "1     1.116503                   77.46                      416.20   \n",
       "2     0.284810                  206.15                      224.50   \n",
       "3     0.986665                  182.48                       43.35   \n",
       "4     0.904281                  338.62                       47.80   \n",
       "5     0.998863                  440.75                       18.90   \n",
       "6     1.050537                  156.92                      295.60   \n",
       "7     1.131792                  248.27                      397.30   \n",
       "8     0.355055                  344.51                       18.35   \n",
       "9     1.124505                  209.26                      182.25   \n",
       "\n",
       "   Premiums in LOB: Health  Premiums in LOB:  Life  \\\n",
       "0                   146.36                   47.01   \n",
       "1                   116.69                  194.48   \n",
       "2                   124.58                   86.35   \n",
       "3                   311.17                   35.34   \n",
       "4                   182.59                   18.78   \n",
       "5                   114.80                    7.00   \n",
       "6                   317.95                   14.67   \n",
       "7                   144.36                   66.68   \n",
       "8                   210.04                    8.78   \n",
       "9                   271.94                   39.23   \n",
       "\n",
       "   Premiums in LOB: Work Compensations  \n",
       "0                                16.89  \n",
       "1                               106.13  \n",
       "2                                99.02  \n",
       "3                                28.34  \n",
       "4                                41.45  \n",
       "5                                 7.67  \n",
       "6                                26.34  \n",
       "7                                53.23  \n",
       "8                                 9.89  \n",
       "9                                55.12  "
      ]
     },
     "execution_count": 3,
     "metadata": {},
     "output_type": "execute_result"
    }
   ],
   "source": [
    "seg=df.copy()\n",
    "seg = seg.iloc[:,1:]\n",
    "seg.head(10)"
   ]
  },
  {
   "cell_type": "code",
   "execution_count": 4,
   "metadata": {},
   "outputs": [
    {
     "data": {
      "text/html": [
       "<div>\n",
       "<style scoped>\n",
       "    .dataframe tbody tr th:only-of-type {\n",
       "        vertical-align: middle;\n",
       "    }\n",
       "\n",
       "    .dataframe tbody tr th {\n",
       "        vertical-align: top;\n",
       "    }\n",
       "\n",
       "    .dataframe thead th {\n",
       "        text-align: right;\n",
       "    }\n",
       "</style>\n",
       "<table border=\"1\" class=\"dataframe\">\n",
       "  <thead>\n",
       "    <tr style=\"text-align: right;\">\n",
       "      <th></th>\n",
       "      <th>First Policy´s Year</th>\n",
       "      <th>Customer Age</th>\n",
       "      <th>Gross Monthly Salary</th>\n",
       "      <th>Geographic Living Area</th>\n",
       "      <th>Has Children (Y=1)</th>\n",
       "      <th>Customer Monetary Value</th>\n",
       "      <th>Claims Rate</th>\n",
       "      <th>Premiums in LOB: Motor</th>\n",
       "      <th>Premiums in LOB: Household</th>\n",
       "      <th>Premiums in LOB: Health</th>\n",
       "      <th>Premiums in LOB:  Life</th>\n",
       "      <th>Premiums in LOB: Work Compensations</th>\n",
       "    </tr>\n",
       "  </thead>\n",
       "  <tbody>\n",
       "    <tr>\n",
       "      <th>count</th>\n",
       "      <td>10266.000000</td>\n",
       "      <td>10279.000000</td>\n",
       "      <td>10260.000000</td>\n",
       "      <td>10295.000000</td>\n",
       "      <td>10275.000000</td>\n",
       "      <td>10296.000000</td>\n",
       "      <td>10296.000000</td>\n",
       "      <td>10262.000000</td>\n",
       "      <td>10296.000000</td>\n",
       "      <td>10253.000000</td>\n",
       "      <td>10192.000000</td>\n",
       "      <td>10210.000000</td>\n",
       "    </tr>\n",
       "    <tr>\n",
       "      <th>mean</th>\n",
       "      <td>1991.062634</td>\n",
       "      <td>47.992217</td>\n",
       "      <td>5012.838557</td>\n",
       "      <td>2.709859</td>\n",
       "      <td>0.706764</td>\n",
       "      <td>177.892604</td>\n",
       "      <td>0.742785</td>\n",
       "      <td>300.470252</td>\n",
       "      <td>210.431192</td>\n",
       "      <td>171.580833</td>\n",
       "      <td>41.855782</td>\n",
       "      <td>41.277514</td>\n",
       "    </tr>\n",
       "    <tr>\n",
       "      <th>std</th>\n",
       "      <td>511.267913</td>\n",
       "      <td>19.709476</td>\n",
       "      <td>2314.900605</td>\n",
       "      <td>1.266291</td>\n",
       "      <td>0.455268</td>\n",
       "      <td>1945.811545</td>\n",
       "      <td>2.916957</td>\n",
       "      <td>211.914997</td>\n",
       "      <td>352.595984</td>\n",
       "      <td>296.405976</td>\n",
       "      <td>47.480632</td>\n",
       "      <td>51.513572</td>\n",
       "    </tr>\n",
       "    <tr>\n",
       "      <th>min</th>\n",
       "      <td>1974.000000</td>\n",
       "      <td>15.000000</td>\n",
       "      <td>665.000000</td>\n",
       "      <td>1.000000</td>\n",
       "      <td>0.000000</td>\n",
       "      <td>-165680.424000</td>\n",
       "      <td>0.000000</td>\n",
       "      <td>-4.110000</td>\n",
       "      <td>-75.000000</td>\n",
       "      <td>-2.110000</td>\n",
       "      <td>-7.000000</td>\n",
       "      <td>-12.000000</td>\n",
       "    </tr>\n",
       "    <tr>\n",
       "      <th>25%</th>\n",
       "      <td>1980.000000</td>\n",
       "      <td>33.000000</td>\n",
       "      <td>3411.000000</td>\n",
       "      <td>1.000000</td>\n",
       "      <td>0.000000</td>\n",
       "      <td>-9.440000</td>\n",
       "      <td>0.392437</td>\n",
       "      <td>190.590000</td>\n",
       "      <td>49.450000</td>\n",
       "      <td>111.800000</td>\n",
       "      <td>9.890000</td>\n",
       "      <td>10.670000</td>\n",
       "    </tr>\n",
       "    <tr>\n",
       "      <th>50%</th>\n",
       "      <td>1986.000000</td>\n",
       "      <td>48.000000</td>\n",
       "      <td>5002.500000</td>\n",
       "      <td>3.000000</td>\n",
       "      <td>1.000000</td>\n",
       "      <td>186.870000</td>\n",
       "      <td>0.720657</td>\n",
       "      <td>298.610000</td>\n",
       "      <td>132.800000</td>\n",
       "      <td>162.810000</td>\n",
       "      <td>25.560000</td>\n",
       "      <td>25.670000</td>\n",
       "    </tr>\n",
       "    <tr>\n",
       "      <th>75%</th>\n",
       "      <td>1992.000000</td>\n",
       "      <td>63.000000</td>\n",
       "      <td>6580.250000</td>\n",
       "      <td>4.000000</td>\n",
       "      <td>1.000000</td>\n",
       "      <td>399.777500</td>\n",
       "      <td>0.976811</td>\n",
       "      <td>408.300000</td>\n",
       "      <td>290.050000</td>\n",
       "      <td>219.820000</td>\n",
       "      <td>57.790000</td>\n",
       "      <td>56.790000</td>\n",
       "    </tr>\n",
       "    <tr>\n",
       "      <th>max</th>\n",
       "      <td>53784.000000</td>\n",
       "      <td>988.000000</td>\n",
       "      <td>110429.760000</td>\n",
       "      <td>4.000000</td>\n",
       "      <td>1.000000</td>\n",
       "      <td>11875.890000</td>\n",
       "      <td>256.200000</td>\n",
       "      <td>11604.420000</td>\n",
       "      <td>25048.800000</td>\n",
       "      <td>28272.000000</td>\n",
       "      <td>398.300000</td>\n",
       "      <td>1988.700000</td>\n",
       "    </tr>\n",
       "  </tbody>\n",
       "</table>\n",
       "</div>"
      ],
      "text/plain": [
       "       First Policy´s Year  Customer Age  Gross Monthly Salary  \\\n",
       "count         10266.000000  10279.000000          10260.000000   \n",
       "mean           1991.062634     47.992217           5012.838557   \n",
       "std             511.267913     19.709476           2314.900605   \n",
       "min            1974.000000     15.000000            665.000000   \n",
       "25%            1980.000000     33.000000           3411.000000   \n",
       "50%            1986.000000     48.000000           5002.500000   \n",
       "75%            1992.000000     63.000000           6580.250000   \n",
       "max           53784.000000    988.000000         110429.760000   \n",
       "\n",
       "       Geographic Living Area  Has Children (Y=1)  Customer Monetary Value  \\\n",
       "count            10295.000000        10275.000000             10296.000000   \n",
       "mean                 2.709859            0.706764               177.892604   \n",
       "std                  1.266291            0.455268              1945.811545   \n",
       "min                  1.000000            0.000000           -165680.424000   \n",
       "25%                  1.000000            0.000000                -9.440000   \n",
       "50%                  3.000000            1.000000               186.870000   \n",
       "75%                  4.000000            1.000000               399.777500   \n",
       "max                  4.000000            1.000000             11875.890000   \n",
       "\n",
       "        Claims Rate  Premiums in LOB: Motor  Premiums in LOB: Household  \\\n",
       "count  10296.000000            10262.000000                10296.000000   \n",
       "mean       0.742785              300.470252                  210.431192   \n",
       "std        2.916957              211.914997                  352.595984   \n",
       "min        0.000000               -4.110000                  -75.000000   \n",
       "25%        0.392437              190.590000                   49.450000   \n",
       "50%        0.720657              298.610000                  132.800000   \n",
       "75%        0.976811              408.300000                  290.050000   \n",
       "max      256.200000            11604.420000                25048.800000   \n",
       "\n",
       "       Premiums in LOB: Health  Premiums in LOB:  Life  \\\n",
       "count             10253.000000            10192.000000   \n",
       "mean                171.580833               41.855782   \n",
       "std                 296.405976               47.480632   \n",
       "min                  -2.110000               -7.000000   \n",
       "25%                 111.800000                9.890000   \n",
       "50%                 162.810000               25.560000   \n",
       "75%                 219.820000               57.790000   \n",
       "max               28272.000000              398.300000   \n",
       "\n",
       "       Premiums in LOB: Work Compensations  \n",
       "count                         10210.000000  \n",
       "mean                             41.277514  \n",
       "std                              51.513572  \n",
       "min                             -12.000000  \n",
       "25%                              10.670000  \n",
       "50%                              25.670000  \n",
       "75%                              56.790000  \n",
       "max                            1988.700000  "
      ]
     },
     "execution_count": 4,
     "metadata": {},
     "output_type": "execute_result"
    }
   ],
   "source": [
    "seg.describe()"
   ]
  },
  {
   "cell_type": "code",
   "execution_count": 5,
   "metadata": {},
   "outputs": [
    {
     "data": {
      "text/plain": [
       "First Policy´s Year                     30\n",
       "Customer Age                            17\n",
       "Educational Degree                      17\n",
       "Gross Monthly Salary                    36\n",
       "Geographic Living Area                   1\n",
       "Has Children (Y=1)                      21\n",
       "Customer Monetary Value                  0\n",
       "Claims Rate                              0\n",
       "Premiums in LOB: Motor                  34\n",
       "Premiums in LOB: Household               0\n",
       "Premiums in LOB: Health                 43\n",
       "Premiums in LOB:  Life                 104\n",
       "Premiums in LOB: Work Compensations     86\n",
       "dtype: int64"
      ]
     },
     "execution_count": 5,
     "metadata": {},
     "output_type": "execute_result"
    }
   ],
   "source": [
    "seg.isnull().sum()"
   ]
  },
  {
   "cell_type": "code",
   "execution_count": 6,
   "metadata": {},
   "outputs": [
    {
     "data": {
      "text/html": [
       "<div>\n",
       "<style scoped>\n",
       "    .dataframe tbody tr th:only-of-type {\n",
       "        vertical-align: middle;\n",
       "    }\n",
       "\n",
       "    .dataframe tbody tr th {\n",
       "        vertical-align: top;\n",
       "    }\n",
       "\n",
       "    .dataframe thead th {\n",
       "        text-align: right;\n",
       "    }\n",
       "</style>\n",
       "<table border=\"1\" class=\"dataframe\">\n",
       "  <thead>\n",
       "    <tr style=\"text-align: right;\">\n",
       "      <th></th>\n",
       "      <th>First Policy´s Year</th>\n",
       "      <th>Customer Age</th>\n",
       "      <th>Educational Degree</th>\n",
       "      <th>Gross Monthly Salary</th>\n",
       "      <th>Geographic Living Area</th>\n",
       "      <th>Has Children (Y=1)</th>\n",
       "      <th>Customer Monetary Value</th>\n",
       "      <th>Claims Rate</th>\n",
       "      <th>Premiums in LOB: Motor</th>\n",
       "      <th>Premiums in LOB: Household</th>\n",
       "      <th>Premiums in LOB: Health</th>\n",
       "      <th>Premiums in LOB:  Life</th>\n",
       "      <th>Premiums in LOB: Work Compensations</th>\n",
       "    </tr>\n",
       "  </thead>\n",
       "  <tbody>\n",
       "    <tr>\n",
       "      <th>8866</th>\n",
       "      <td>1978.0</td>\n",
       "      <td>44.0</td>\n",
       "      <td>2 - High School</td>\n",
       "      <td>5236.0</td>\n",
       "      <td>4.0</td>\n",
       "      <td>1.0</td>\n",
       "      <td>473.54</td>\n",
       "      <td>0.980537</td>\n",
       "      <td>508.43</td>\n",
       "      <td>25048.8</td>\n",
       "      <td>36.23</td>\n",
       "      <td>9.89</td>\n",
       "      <td>11.89</td>\n",
       "    </tr>\n",
       "  </tbody>\n",
       "</table>\n",
       "</div>"
      ],
      "text/plain": [
       "      First Policy´s Year  Customer Age Educational Degree  \\\n",
       "8866               1978.0          44.0    2 - High School   \n",
       "\n",
       "      Gross Monthly Salary  Geographic Living Area  Has Children (Y=1)  \\\n",
       "8866                5236.0                     4.0                 1.0   \n",
       "\n",
       "      Customer Monetary Value  Claims Rate  Premiums in LOB: Motor  \\\n",
       "8866                   473.54     0.980537                  508.43   \n",
       "\n",
       "      Premiums in LOB: Household  Premiums in LOB: Health  \\\n",
       "8866                     25048.8                    36.23   \n",
       "\n",
       "      Premiums in LOB:  Life  Premiums in LOB: Work Compensations  \n",
       "8866                    9.89                                11.89  "
      ]
     },
     "execution_count": 6,
     "metadata": {},
     "output_type": "execute_result"
    }
   ],
   "source": [
    "seg[seg['Premiums in LOB: Household']>10000]"
   ]
  },
  {
   "cell_type": "code",
   "execution_count": 7,
   "metadata": {},
   "outputs": [
    {
     "data": {
      "text/html": [
       "<div>\n",
       "<style scoped>\n",
       "    .dataframe tbody tr th:only-of-type {\n",
       "        vertical-align: middle;\n",
       "    }\n",
       "\n",
       "    .dataframe tbody tr th {\n",
       "        vertical-align: top;\n",
       "    }\n",
       "\n",
       "    .dataframe thead th {\n",
       "        text-align: right;\n",
       "    }\n",
       "</style>\n",
       "<table border=\"1\" class=\"dataframe\">\n",
       "  <thead>\n",
       "    <tr style=\"text-align: right;\">\n",
       "      <th></th>\n",
       "      <th>Educational Degree</th>\n",
       "      <th>count</th>\n",
       "    </tr>\n",
       "  </thead>\n",
       "  <tbody>\n",
       "    <tr>\n",
       "      <th>0</th>\n",
       "      <td>3 - BSc/MSc</td>\n",
       "      <td>4799</td>\n",
       "    </tr>\n",
       "    <tr>\n",
       "      <th>1</th>\n",
       "      <td>2 - High School</td>\n",
       "      <td>3510</td>\n",
       "    </tr>\n",
       "    <tr>\n",
       "      <th>2</th>\n",
       "      <td>1 - Basic</td>\n",
       "      <td>1272</td>\n",
       "    </tr>\n",
       "    <tr>\n",
       "      <th>3</th>\n",
       "      <td>4 - PhD</td>\n",
       "      <td>698</td>\n",
       "    </tr>\n",
       "  </tbody>\n",
       "</table>\n",
       "</div>"
      ],
      "text/plain": [
       "  Educational Degree  count\n",
       "0        3 - BSc/MSc   4799\n",
       "1    2 - High School   3510\n",
       "2          1 - Basic   1272\n",
       "3            4 - PhD    698"
      ]
     },
     "execution_count": 7,
     "metadata": {},
     "output_type": "execute_result"
    }
   ],
   "source": [
    "degree= pd.DataFrame(seg.groupby(['Educational Degree'],as_index=True).agg({\"Educational Degree\": [\"count\"]}))\n",
    "degree.columns = degree.columns.droplevel()\n",
    "degree=degree.reset_index()\n",
    "degree=degree.sort_values(by='count', ascending=False)\n",
    "degree=degree.reset_index(drop=True)\n",
    "degree"
   ]
  },
  {
   "cell_type": "code",
   "execution_count": 16,
   "metadata": {},
   "outputs": [],
   "source": [
    "matplotlib.use('TkAgg')\n"
   ]
  },
  {
   "cell_type": "code",
   "execution_count": 10,
   "metadata": {},
   "outputs": [],
   "source": [
    "%matplotlib inline"
   ]
  },
  {
   "cell_type": "code",
   "execution_count": 17,
   "metadata": {},
   "outputs": [],
   "source": [
    "sns.countplot(x = 'Educational Degree', data = seg)\n",
    "plt.show()"
   ]
  },
  {
   "cell_type": "code",
   "execution_count": 12,
   "metadata": {},
   "outputs": [],
   "source": [
    "age = seg.loc[:,'Customer Age']\n"
   ]
  },
  {
   "cell_type": "code",
   "execution_count": 13,
   "metadata": {},
   "outputs": [
    {
     "data": {
      "image/png": "[encoded data removed]",
      "text/plain": [
       "<Figure size 432x288 with 1 Axes>"
      ]
     },
     "metadata": {
      "needs_background": "light"
     },
     "output_type": "display_data"
    }
   ],
   "source": [
    "fig, ax = plt.subplots()\n",
    "sns.histplot(data=seg, x=\"Customer Age\",kde=True,ax=ax,bins=200)\n",
    "ax.set_xlim(10,90)\n",
    "plt.show()"
   ]
  },
  {
   "cell_type": "code",
   "execution_count": 14,
   "metadata": {},
   "outputs": [
    {
     "data": {
      "image/png": "[encoded data removed]",
      "text/plain": [
       "<Figure size 432x288 with 1 Axes>"
      ]
     },
     "metadata": {
      "needs_background": "light"
     },
     "output_type": "display_data"
    }
   ],
   "source": [
    "sns.countplot(x='Geographic Living Area',data=seg)\n",
    "plt.show()"
   ]
  },
  {
   "cell_type": "code",
   "execution_count": 15,
   "metadata": {},
   "outputs": [
    {
     "data": {
      "image/png": "[encoded data removed]",
      "text/plain": [
       "<Figure size 432x288 with 1 Axes>"
      ]
     },
     "metadata": {
      "needs_background": "light"
     },
     "output_type": "display_data"
    }
   ],
   "source": [
    "sns.countplot(x='Has Children (Y=1)',data=seg)\n",
    "plt.show()"
   ]
  },
  {
   "cell_type": "code",
   "execution_count": 16,
   "metadata": {},
   "outputs": [
    {
     "data": {
      "image/png": "[encoded data removed]",
      "text/plain": [
       "<Figure size 432x288 with 1 Axes>"
      ]
     },
     "metadata": {
      "needs_background": "light"
     },
     "output_type": "display_data"
    }
   ],
   "source": [
    "sns.boxplot(x='Geographic Living Area',y='Customer Age',data=seg)\n",
    "plt.ylim(0, 90)\n",
    "plt.show()"
   ]
  },
  {
   "cell_type": "code",
   "execution_count": 8,
   "metadata": {},
   "outputs": [],
   "source": [
    "df_2= seg.iloc[:,8:]\n"
   ]
  },
  {
   "cell_type": "code",
   "execution_count": 18,
   "metadata": {},
   "outputs": [
    {
     "data": {
      "image/png": "[encoded data removed]",
      "text/plain": [
       "<Figure size 432x288 with 1 Axes>"
      ]
     },
     "metadata": {
      "needs_background": "light"
     },
     "output_type": "display_data"
    }
   ],
   "source": [
    "sns.boxplot(x=\"variable\", y=\"value\", data=pd.melt(df_2))\n",
    "plt.show()"
   ]
  },
  {
   "cell_type": "code",
   "execution_count": 19,
   "metadata": {},
   "outputs": [
    {
     "data": {
      "image/png": "[encoded data removed]",
      "text/plain": [
       "<Figure size 432x288 with 1 Axes>"
      ]
     },
     "metadata": {
      "needs_background": "light"
     },
     "output_type": "display_data"
    }
   ],
   "source": [
    "sns.boxplot(x=\"variable\", y=\"value\", data=pd.melt(df_2))\n",
    "plt.ylim(-100,2000)\n",
    "plt.show()"
   ]
  },
  {
   "cell_type": "code",
   "execution_count": 20,
   "metadata": {},
   "outputs": [
    {
     "data": {
      "text/plain": [
       "Geographic Living Area\n",
       "1.0    0.717662\n",
       "2.0    0.687025\n",
       "3.0    0.771836\n",
       "4.0    0.760644\n",
       "Name: Claims Rate, dtype: float64"
      ]
     },
     "execution_count": 20,
     "metadata": {},
     "output_type": "execute_result"
    }
   ],
   "source": [
    "claims_by_zone= seg.groupby('Geographic Living Area')['Claims Rate'].mean()\n",
    "claims_by_zone"
   ]
  },
  {
   "cell_type": "code",
   "execution_count": 21,
   "metadata": {},
   "outputs": [
    {
     "data": {
      "text/html": [
       "<div>\n",
       "<style scoped>\n",
       "    .dataframe tbody tr th:only-of-type {\n",
       "        vertical-align: middle;\n",
       "    }\n",
       "\n",
       "    .dataframe tbody tr th {\n",
       "        vertical-align: top;\n",
       "    }\n",
       "\n",
       "    .dataframe thead th {\n",
       "        text-align: right;\n",
       "    }\n",
       "</style>\n",
       "<table border=\"1\" class=\"dataframe\">\n",
       "  <thead>\n",
       "    <tr style=\"text-align: right;\">\n",
       "      <th></th>\n",
       "      <th>Premiums in LOB: Motor</th>\n",
       "      <th>Premiums in LOB: Household</th>\n",
       "      <th>Premiums in LOB: Health</th>\n",
       "      <th>Premiums in LOB:  Life</th>\n",
       "      <th>Premiums in LOB: Work Compensations</th>\n",
       "    </tr>\n",
       "  </thead>\n",
       "  <tbody>\n",
       "    <tr>\n",
       "      <th>0</th>\n",
       "      <td>375.85</td>\n",
       "      <td>79.45</td>\n",
       "      <td>146.36</td>\n",
       "      <td>47.01</td>\n",
       "      <td>16.89</td>\n",
       "    </tr>\n",
       "    <tr>\n",
       "      <th>1</th>\n",
       "      <td>77.46</td>\n",
       "      <td>416.20</td>\n",
       "      <td>116.69</td>\n",
       "      <td>194.48</td>\n",
       "      <td>106.13</td>\n",
       "    </tr>\n",
       "    <tr>\n",
       "      <th>2</th>\n",
       "      <td>206.15</td>\n",
       "      <td>224.50</td>\n",
       "      <td>124.58</td>\n",
       "      <td>86.35</td>\n",
       "      <td>99.02</td>\n",
       "    </tr>\n",
       "    <tr>\n",
       "      <th>3</th>\n",
       "      <td>182.48</td>\n",
       "      <td>43.35</td>\n",
       "      <td>311.17</td>\n",
       "      <td>35.34</td>\n",
       "      <td>28.34</td>\n",
       "    </tr>\n",
       "    <tr>\n",
       "      <th>4</th>\n",
       "      <td>338.62</td>\n",
       "      <td>47.80</td>\n",
       "      <td>182.59</td>\n",
       "      <td>18.78</td>\n",
       "      <td>41.45</td>\n",
       "    </tr>\n",
       "    <tr>\n",
       "      <th>...</th>\n",
       "      <td>...</td>\n",
       "      <td>...</td>\n",
       "      <td>...</td>\n",
       "      <td>...</td>\n",
       "      <td>...</td>\n",
       "    </tr>\n",
       "    <tr>\n",
       "      <th>10291</th>\n",
       "      <td>393.74</td>\n",
       "      <td>49.45</td>\n",
       "      <td>173.81</td>\n",
       "      <td>9.78</td>\n",
       "      <td>14.78</td>\n",
       "    </tr>\n",
       "    <tr>\n",
       "      <th>10292</th>\n",
       "      <td>133.58</td>\n",
       "      <td>1035.75</td>\n",
       "      <td>143.25</td>\n",
       "      <td>12.89</td>\n",
       "      <td>105.13</td>\n",
       "    </tr>\n",
       "    <tr>\n",
       "      <th>10293</th>\n",
       "      <td>403.63</td>\n",
       "      <td>132.80</td>\n",
       "      <td>142.25</td>\n",
       "      <td>12.67</td>\n",
       "      <td>4.89</td>\n",
       "    </tr>\n",
       "    <tr>\n",
       "      <th>10294</th>\n",
       "      <td>188.59</td>\n",
       "      <td>211.15</td>\n",
       "      <td>198.37</td>\n",
       "      <td>63.90</td>\n",
       "      <td>112.91</td>\n",
       "    </tr>\n",
       "    <tr>\n",
       "      <th>10295</th>\n",
       "      <td>414.08</td>\n",
       "      <td>94.45</td>\n",
       "      <td>141.25</td>\n",
       "      <td>6.89</td>\n",
       "      <td>12.89</td>\n",
       "    </tr>\n",
       "  </tbody>\n",
       "</table>\n",
       "<p>10296 rows × 5 columns</p>\n",
       "</div>"
      ],
      "text/plain": [
       "       Premiums in LOB: Motor  Premiums in LOB: Household  \\\n",
       "0                      375.85                       79.45   \n",
       "1                       77.46                      416.20   \n",
       "2                      206.15                      224.50   \n",
       "3                      182.48                       43.35   \n",
       "4                      338.62                       47.80   \n",
       "...                       ...                         ...   \n",
       "10291                  393.74                       49.45   \n",
       "10292                  133.58                     1035.75   \n",
       "10293                  403.63                      132.80   \n",
       "10294                  188.59                      211.15   \n",
       "10295                  414.08                       94.45   \n",
       "\n",
       "       Premiums in LOB: Health  Premiums in LOB:  Life  \\\n",
       "0                       146.36                   47.01   \n",
       "1                       116.69                  194.48   \n",
       "2                       124.58                   86.35   \n",
       "3                       311.17                   35.34   \n",
       "4                       182.59                   18.78   \n",
       "...                        ...                     ...   \n",
       "10291                   173.81                    9.78   \n",
       "10292                   143.25                   12.89   \n",
       "10293                   142.25                   12.67   \n",
       "10294                   198.37                   63.90   \n",
       "10295                   141.25                    6.89   \n",
       "\n",
       "       Premiums in LOB: Work Compensations  \n",
       "0                                    16.89  \n",
       "1                                   106.13  \n",
       "2                                    99.02  \n",
       "3                                    28.34  \n",
       "4                                    41.45  \n",
       "...                                    ...  \n",
       "10291                                14.78  \n",
       "10292                               105.13  \n",
       "10293                                 4.89  \n",
       "10294                               112.91  \n",
       "10295                                12.89  \n",
       "\n",
       "[10296 rows x 5 columns]"
      ]
     },
     "execution_count": 21,
     "metadata": {},
     "output_type": "execute_result"
    }
   ],
   "source": [
    "\n",
    "premiums=seg[['Premiums in LOB: Motor',\n",
    "       'Premiums in LOB: Household', 'Premiums in LOB: Health',\n",
    "       'Premiums in LOB:  Life', 'Premiums in LOB: Work Compensations']]\n",
    "premiums"
   ]
  },
  {
   "cell_type": "code",
   "execution_count": 22,
   "metadata": {},
   "outputs": [
    {
     "data": {
      "image/png": "[encoded data removed]",
      "text/plain": [
       "<Figure size 432x288 with 2 Axes>"
      ]
     },
     "metadata": {
      "needs_background": "light"
     },
     "output_type": "display_data"
    }
   ],
   "source": [
    "sns.heatmap(premiums.corr(),cmap=\"YlGnBu\", annot=True)\n",
    "plt.show()"
   ]
  },
  {
   "cell_type": "code",
   "execution_count": 16,
   "metadata": {},
   "outputs": [],
   "source": [
    "from sklearn.preprocessing import OrdinalEncoder\n",
    "seg_trans=pd.read_csv('Dataset_GMSalary.csv')\n"
   ]
  },
  {
   "cell_type": "code",
   "execution_count": 17,
   "metadata": {},
   "outputs": [
    {
     "data": {
      "text/plain": [
       "array(['2 - High School', '1 - Basic', '3 - BSc/MSc', '4 - PhD', nan],\n",
       "      dtype=object)"
      ]
     },
     "execution_count": 17,
     "metadata": {},
     "output_type": "execute_result"
    }
   ],
   "source": [
    "pd.unique(seg_trans['EDegree'])\n"
   ]
  },
  {
   "cell_type": "code",
   "execution_count": 19,
   "metadata": {},
   "outputs": [
    {
     "name": "stdout",
     "output_type": "stream",
     "text": [
      "[['2 - High School']\n",
      " ['2 - High School']\n",
      " ['1 - Basic']\n",
      " ...\n",
      " ['2 - High School']\n",
      " ['4 - PhD']\n",
      " ['2 - High School']]\n"
     ]
    }
   ],
   "source": [
    "data = np.asarray(seg_trans['EDegree'])\n",
    "data=data.reshape(-1,1)\n",
    "print(data)\n"
   ]
  },
  {
   "cell_type": "code",
   "execution_count": 14,
   "metadata": {},
   "outputs": [
    {
     "data": {
      "text/plain": [
       "array([['2 - High School'],\n",
       "       ['2 - High School'],\n",
       "       ['1 - Basic'],\n",
       "       ...,\n",
       "       ['3 - BSc/MSc'],\n",
       "       ['1 - Basic'],\n",
       "       ['4 - PhD']], dtype=object)"
      ]
     },
     "execution_count": 14,
     "metadata": {},
     "output_type": "execute_result"
    }
   ],
   "source": [
    "data"
   ]
  },
  {
   "cell_type": "code",
   "execution_count": 20,
   "metadata": {},
   "outputs": [
    {
     "data": {
      "text/plain": [
       "array([[1.],\n",
       "       [1.],\n",
       "       [0.],\n",
       "       ...,\n",
       "       [1.],\n",
       "       [3.],\n",
       "       [1.]])"
      ]
     },
     "execution_count": 20,
     "metadata": {},
     "output_type": "execute_result"
    }
   ],
   "source": [
    "# define ordinal encoding\n",
    "encoder = OrdinalEncoder()\n",
    "# transform data\n",
    "res=encoder.fit_transform(data)\n",
    "res"
   ]
  },
  {
   "cell_type": "code",
   "execution_count": 21,
   "metadata": {},
   "outputs": [
    {
     "data": {
      "text/plain": [
       "Index(['Unnamed: 0', 'Id', 'FPYear', 'EDegree', 'GMSalary', 'GLArea',\n",
       "       'HChildren', 'CMValue', 'CRate', 'PMotor', 'PHousehold', 'PHealth',\n",
       "       'PLife', 'PCompensations'],\n",
       "      dtype='object')"
      ]
     },
     "execution_count": 21,
     "metadata": {},
     "output_type": "execute_result"
    }
   ],
   "source": [
    "res =pd.DataFrame(res)\n",
    "seg_trans['EDegree'] = res\n",
    "seg_trans.columns"
   ]
  },
  {
   "cell_type": "code",
   "execution_count": 28,
   "metadata": {},
   "outputs": [
    {
     "data": {
      "text/html": [
       "<div>\n",
       "<style scoped>\n",
       "    .dataframe tbody tr th:only-of-type {\n",
       "        vertical-align: middle;\n",
       "    }\n",
       "\n",
       "    .dataframe tbody tr th {\n",
       "        vertical-align: top;\n",
       "    }\n",
       "\n",
       "    .dataframe thead th {\n",
       "        text-align: right;\n",
       "    }\n",
       "</style>\n",
       "<table border=\"1\" class=\"dataframe\">\n",
       "  <thead>\n",
       "    <tr style=\"text-align: right;\">\n",
       "      <th></th>\n",
       "      <th>Unnamed: 0</th>\n",
       "      <th>Id</th>\n",
       "      <th>FPYear</th>\n",
       "      <th>EDegree</th>\n",
       "      <th>GMSalary</th>\n",
       "      <th>GLArea</th>\n",
       "      <th>HChildren</th>\n",
       "      <th>CMValue</th>\n",
       "      <th>CRate</th>\n",
       "      <th>PMotor</th>\n",
       "      <th>PHousehold</th>\n",
       "      <th>PHealth</th>\n",
       "      <th>PLife</th>\n",
       "      <th>PCompensations</th>\n",
       "    </tr>\n",
       "  </thead>\n",
       "  <tbody>\n",
       "    <tr>\n",
       "      <th>888</th>\n",
       "      <td>896</td>\n",
       "      <td>897</td>\n",
       "      <td>NaN</td>\n",
       "      <td>NaN</td>\n",
       "      <td>5286.000000</td>\n",
       "      <td>1.0</td>\n",
       "      <td>1.0</td>\n",
       "      <td>-25.00</td>\n",
       "      <td>1.000000</td>\n",
       "      <td>515.54</td>\n",
       "      <td>33.90</td>\n",
       "      <td>47.01</td>\n",
       "      <td>12.89</td>\n",
       "      <td>3.78</td>\n",
       "    </tr>\n",
       "    <tr>\n",
       "      <th>1698</th>\n",
       "      <td>1707</td>\n",
       "      <td>1708</td>\n",
       "      <td>1992.0</td>\n",
       "      <td>NaN</td>\n",
       "      <td>7653.000000</td>\n",
       "      <td>4.0</td>\n",
       "      <td>0.0</td>\n",
       "      <td>355.52</td>\n",
       "      <td>0.330989</td>\n",
       "      <td>222.71</td>\n",
       "      <td>146.70</td>\n",
       "      <td>0.00</td>\n",
       "      <td>94.13</td>\n",
       "      <td>105.24</td>\n",
       "    </tr>\n",
       "    <tr>\n",
       "      <th>2433</th>\n",
       "      <td>2449</td>\n",
       "      <td>2450</td>\n",
       "      <td>NaN</td>\n",
       "      <td>NaN</td>\n",
       "      <td>8930.000000</td>\n",
       "      <td>4.0</td>\n",
       "      <td>0.0</td>\n",
       "      <td>457.75</td>\n",
       "      <td>0.356162</td>\n",
       "      <td>338.73</td>\n",
       "      <td>187.25</td>\n",
       "      <td>175.81</td>\n",
       "      <td>43.23</td>\n",
       "      <td>4.78</td>\n",
       "    </tr>\n",
       "    <tr>\n",
       "      <th>2710</th>\n",
       "      <td>2728</td>\n",
       "      <td>2729</td>\n",
       "      <td>NaN</td>\n",
       "      <td>NaN</td>\n",
       "      <td>6399.000000</td>\n",
       "      <td>2.0</td>\n",
       "      <td>0.0</td>\n",
       "      <td>109.25</td>\n",
       "      <td>0.773015</td>\n",
       "      <td>211.93</td>\n",
       "      <td>14.45</td>\n",
       "      <td>275.72</td>\n",
       "      <td>77.68</td>\n",
       "      <td>11.67</td>\n",
       "    </tr>\n",
       "    <tr>\n",
       "      <th>2752</th>\n",
       "      <td>2770</td>\n",
       "      <td>2771</td>\n",
       "      <td>NaN</td>\n",
       "      <td>NaN</td>\n",
       "      <td>2945.000000</td>\n",
       "      <td>4.0</td>\n",
       "      <td>1.0</td>\n",
       "      <td>443.74</td>\n",
       "      <td>0.311244</td>\n",
       "      <td>386.74</td>\n",
       "      <td>104.45</td>\n",
       "      <td>156.92</td>\n",
       "      <td>5.00</td>\n",
       "      <td>27.45</td>\n",
       "    </tr>\n",
       "    <tr>\n",
       "      <th>3038</th>\n",
       "      <td>3056</td>\n",
       "      <td>3057</td>\n",
       "      <td>NaN</td>\n",
       "      <td>NaN</td>\n",
       "      <td>4441.000000</td>\n",
       "      <td>1.0</td>\n",
       "      <td>1.0</td>\n",
       "      <td>-9.22</td>\n",
       "      <td>0.973787</td>\n",
       "      <td>475.09</td>\n",
       "      <td>15.00</td>\n",
       "      <td>93.35</td>\n",
       "      <td>15.78</td>\n",
       "      <td>2.78</td>\n",
       "    </tr>\n",
       "    <tr>\n",
       "      <th>4396</th>\n",
       "      <td>4423</td>\n",
       "      <td>4424</td>\n",
       "      <td>NaN</td>\n",
       "      <td>NaN</td>\n",
       "      <td>5376.000000</td>\n",
       "      <td>1.0</td>\n",
       "      <td>1.0</td>\n",
       "      <td>481.99</td>\n",
       "      <td>0.093041</td>\n",
       "      <td>533.99</td>\n",
       "      <td>-30.00</td>\n",
       "      <td>52.01</td>\n",
       "      <td>3.00</td>\n",
       "      <td>0.00</td>\n",
       "    </tr>\n",
       "    <tr>\n",
       "      <th>6496</th>\n",
       "      <td>6535</td>\n",
       "      <td>6536</td>\n",
       "      <td>NaN</td>\n",
       "      <td>NaN</td>\n",
       "      <td>4825.000000</td>\n",
       "      <td>3.0</td>\n",
       "      <td>1.0</td>\n",
       "      <td>420.86</td>\n",
       "      <td>0.281659</td>\n",
       "      <td>472.31</td>\n",
       "      <td>48.35</td>\n",
       "      <td>56.90</td>\n",
       "      <td>26.45</td>\n",
       "      <td>16.67</td>\n",
       "    </tr>\n",
       "    <tr>\n",
       "      <th>7278</th>\n",
       "      <td>7321</td>\n",
       "      <td>7322</td>\n",
       "      <td>NaN</td>\n",
       "      <td>NaN</td>\n",
       "      <td>6692.000000</td>\n",
       "      <td>4.0</td>\n",
       "      <td>0.0</td>\n",
       "      <td>173.47</td>\n",
       "      <td>0.731924</td>\n",
       "      <td>139.47</td>\n",
       "      <td>177.80</td>\n",
       "      <td>281.61</td>\n",
       "      <td>120.80</td>\n",
       "      <td>20.67</td>\n",
       "    </tr>\n",
       "    <tr>\n",
       "      <th>7425</th>\n",
       "      <td>7470</td>\n",
       "      <td>7471</td>\n",
       "      <td>NaN</td>\n",
       "      <td>NaN</td>\n",
       "      <td>6422.000000</td>\n",
       "      <td>4.0</td>\n",
       "      <td>0.0</td>\n",
       "      <td>261.50</td>\n",
       "      <td>0.661811</td>\n",
       "      <td>213.82</td>\n",
       "      <td>323.95</td>\n",
       "      <td>197.26</td>\n",
       "      <td>37.34</td>\n",
       "      <td>74.79</td>\n",
       "    </tr>\n",
       "    <tr>\n",
       "      <th>8033</th>\n",
       "      <td>8081</td>\n",
       "      <td>8082</td>\n",
       "      <td>NaN</td>\n",
       "      <td>NaN</td>\n",
       "      <td>8432.000000</td>\n",
       "      <td>4.0</td>\n",
       "      <td>1.0</td>\n",
       "      <td>320.40</td>\n",
       "      <td>0.563166</td>\n",
       "      <td>376.96</td>\n",
       "      <td>212.25</td>\n",
       "      <td>158.14</td>\n",
       "      <td>11.78</td>\n",
       "      <td>31.56</td>\n",
       "    </tr>\n",
       "    <tr>\n",
       "      <th>8125</th>\n",
       "      <td>8173</td>\n",
       "      <td>8174</td>\n",
       "      <td>NaN</td>\n",
       "      <td>NaN</td>\n",
       "      <td>8365.000000</td>\n",
       "      <td>1.0</td>\n",
       "      <td>0.0</td>\n",
       "      <td>173.04</td>\n",
       "      <td>0.751318</td>\n",
       "      <td>178.59</td>\n",
       "      <td>246.70</td>\n",
       "      <td>251.38</td>\n",
       "      <td>50.12</td>\n",
       "      <td>69.57</td>\n",
       "    </tr>\n",
       "    <tr>\n",
       "      <th>8254</th>\n",
       "      <td>8303</td>\n",
       "      <td>8304</td>\n",
       "      <td>NaN</td>\n",
       "      <td>NaN</td>\n",
       "      <td>7457.000000</td>\n",
       "      <td>3.0</td>\n",
       "      <td>0.0</td>\n",
       "      <td>17.45</td>\n",
       "      <td>0.933880</td>\n",
       "      <td>254.38</td>\n",
       "      <td>63.90</td>\n",
       "      <td>290.61</td>\n",
       "      <td>11.67</td>\n",
       "      <td>21.45</td>\n",
       "    </tr>\n",
       "    <tr>\n",
       "      <th>9083</th>\n",
       "      <td>9136</td>\n",
       "      <td>9137</td>\n",
       "      <td>NaN</td>\n",
       "      <td>NaN</td>\n",
       "      <td>3506.000000</td>\n",
       "      <td>1.0</td>\n",
       "      <td>1.0</td>\n",
       "      <td>464.86</td>\n",
       "      <td>0.407294</td>\n",
       "      <td>49.23</td>\n",
       "      <td>280.60</td>\n",
       "      <td>172.70</td>\n",
       "      <td>163.92</td>\n",
       "      <td>160.03</td>\n",
       "    </tr>\n",
       "    <tr>\n",
       "      <th>9258</th>\n",
       "      <td>9312</td>\n",
       "      <td>9313</td>\n",
       "      <td>NaN</td>\n",
       "      <td>NaN</td>\n",
       "      <td>5104.000000</td>\n",
       "      <td>1.0</td>\n",
       "      <td>1.0</td>\n",
       "      <td>458.20</td>\n",
       "      <td>0.280621</td>\n",
       "      <td>468.31</td>\n",
       "      <td>102.25</td>\n",
       "      <td>79.46</td>\n",
       "      <td>6.78</td>\n",
       "      <td>14.89</td>\n",
       "    </tr>\n",
       "    <tr>\n",
       "      <th>9556</th>\n",
       "      <td>9610</td>\n",
       "      <td>9611</td>\n",
       "      <td>NaN</td>\n",
       "      <td>NaN</td>\n",
       "      <td>5810.000000</td>\n",
       "      <td>1.0</td>\n",
       "      <td>1.0</td>\n",
       "      <td>-70.34</td>\n",
       "      <td>1.058864</td>\n",
       "      <td>273.72</td>\n",
       "      <td>211.70</td>\n",
       "      <td>229.60</td>\n",
       "      <td>9.89</td>\n",
       "      <td>45.34</td>\n",
       "    </tr>\n",
       "    <tr>\n",
       "      <th>10265</th>\n",
       "      <td>6560</td>\n",
       "      <td>6561</td>\n",
       "      <td>1976.0</td>\n",
       "      <td>NaN</td>\n",
       "      <td>2484.230262</td>\n",
       "      <td>4.0</td>\n",
       "      <td>1.0</td>\n",
       "      <td>85.91</td>\n",
       "      <td>0.773542</td>\n",
       "      <td>91.24</td>\n",
       "      <td>0.00</td>\n",
       "      <td>227.60</td>\n",
       "      <td>60.01</td>\n",
       "      <td>110.91</td>\n",
       "    </tr>\n",
       "  </tbody>\n",
       "</table>\n",
       "</div>"
      ],
      "text/plain": [
       "       Unnamed: 0    Id  FPYear  EDegree     GMSalary  GLArea  HChildren  \\\n",
       "888           896   897     NaN      NaN  5286.000000     1.0        1.0   \n",
       "1698         1707  1708  1992.0      NaN  7653.000000     4.0        0.0   \n",
       "2433         2449  2450     NaN      NaN  8930.000000     4.0        0.0   \n",
       "2710         2728  2729     NaN      NaN  6399.000000     2.0        0.0   \n",
       "2752         2770  2771     NaN      NaN  2945.000000     4.0        1.0   \n",
       "3038         3056  3057     NaN      NaN  4441.000000     1.0        1.0   \n",
       "4396         4423  4424     NaN      NaN  5376.000000     1.0        1.0   \n",
       "6496         6535  6536     NaN      NaN  4825.000000     3.0        1.0   \n",
       "7278         7321  7322     NaN      NaN  6692.000000     4.0        0.0   \n",
       "7425         7470  7471     NaN      NaN  6422.000000     4.0        0.0   \n",
       "8033         8081  8082     NaN      NaN  8432.000000     4.0        1.0   \n",
       "8125         8173  8174     NaN      NaN  8365.000000     1.0        0.0   \n",
       "8254         8303  8304     NaN      NaN  7457.000000     3.0        0.0   \n",
       "9083         9136  9137     NaN      NaN  3506.000000     1.0        1.0   \n",
       "9258         9312  9313     NaN      NaN  5104.000000     1.0        1.0   \n",
       "9556         9610  9611     NaN      NaN  5810.000000     1.0        1.0   \n",
       "10265        6560  6561  1976.0      NaN  2484.230262     4.0        1.0   \n",
       "\n",
       "       CMValue     CRate  PMotor  PHousehold  PHealth   PLife  PCompensations  \n",
       "888     -25.00  1.000000  515.54       33.90    47.01   12.89            3.78  \n",
       "1698    355.52  0.330989  222.71      146.70     0.00   94.13          105.24  \n",
       "2433    457.75  0.356162  338.73      187.25   175.81   43.23            4.78  \n",
       "2710    109.25  0.773015  211.93       14.45   275.72   77.68           11.67  \n",
       "2752    443.74  0.311244  386.74      104.45   156.92    5.00           27.45  \n",
       "3038     -9.22  0.973787  475.09       15.00    93.35   15.78            2.78  \n",
       "4396    481.99  0.093041  533.99      -30.00    52.01    3.00            0.00  \n",
       "6496    420.86  0.281659  472.31       48.35    56.90   26.45           16.67  \n",
       "7278    173.47  0.731924  139.47      177.80   281.61  120.80           20.67  \n",
       "7425    261.50  0.661811  213.82      323.95   197.26   37.34           74.79  \n",
       "8033    320.40  0.563166  376.96      212.25   158.14   11.78           31.56  \n",
       "8125    173.04  0.751318  178.59      246.70   251.38   50.12           69.57  \n",
       "8254     17.45  0.933880  254.38       63.90   290.61   11.67           21.45  \n",
       "9083    464.86  0.407294   49.23      280.60   172.70  163.92          160.03  \n",
       "9258    458.20  0.280621  468.31      102.25    79.46    6.78           14.89  \n",
       "9556    -70.34  1.058864  273.72      211.70   229.60    9.89           45.34  \n",
       "10265    85.91  0.773542   91.24        0.00   227.60   60.01          110.91  "
      ]
     },
     "execution_count": 28,
     "metadata": {},
     "output_type": "execute_result"
    }
   ],
   "source": [
    "seg_trans.head()\n",
    "#seg_trans.to_excel('C:\\\\Users\\\\FilipeSousa\\\\Desktop\\\\Challenge-Closer-Academy-\\\\Project\\\\Dataset_GMSalary.xlsx')\n",
    "seg_trans[seg_trans['EDegree'].isnull()]"
   ]
  },
  {
   "cell_type": "code",
   "execution_count": 9,
   "metadata": {},
   "outputs": [
    {
     "ename": "NameError",
     "evalue": "name 'seg_trans' is not defined",
     "output_type": "error",
     "traceback": [
      "\u001b[1;31m---------------------------------------------------------------------------\u001b[0m",
      "\u001b[1;31mNameError\u001b[0m                                 Traceback (most recent call last)",
      "\u001b[1;32mc:\\Users\\FilipeSousa\\Desktop\\Challenge-Closer-Academy-\\Project\\data_Explor.ipynb Cell 27'\u001b[0m in \u001b[0;36m<cell line: 2>\u001b[1;34m()\u001b[0m\n\u001b[0;32m      <a href='vscode-notebook-cell:/c%3A/Users/FilipeSousa/Desktop/Challenge-Closer-Academy-/Project/data_Explor.ipynb#ch0000026?line=0'>1</a>\u001b[0m plt\u001b[39m.\u001b[39mfigure(figsize \u001b[39m=\u001b[39m (\u001b[39m16\u001b[39m,\u001b[39m5\u001b[39m))\n\u001b[1;32m----> <a href='vscode-notebook-cell:/c%3A/Users/FilipeSousa/Desktop/Challenge-Closer-Academy-/Project/data_Explor.ipynb#ch0000026?line=1'>2</a>\u001b[0m sns\u001b[39m.\u001b[39mheatmap(seg_trans\u001b[39m.\u001b[39mcorr(\u001b[39m'\u001b[39m\u001b[39mpearson\u001b[39m\u001b[39m'\u001b[39m),cmap\u001b[39m=\u001b[39m\u001b[39m\"\u001b[39m\u001b[39mYlGnBu\u001b[39m\u001b[39m\"\u001b[39m, annot\u001b[39m=\u001b[39m\u001b[39mTrue\u001b[39;00m,linewidths\u001b[39m=\u001b[39m\u001b[39m.5\u001b[39m)\n\u001b[0;32m      <a href='vscode-notebook-cell:/c%3A/Users/FilipeSousa/Desktop/Challenge-Closer-Academy-/Project/data_Explor.ipynb#ch0000026?line=2'>3</a>\u001b[0m plt\u001b[39m.\u001b[39mshow()\n",
      "\u001b[1;31mNameError\u001b[0m: name 'seg_trans' is not defined"
     ]
    }
   ],
   "source": [
    "plt.figure(figsize = (16,5))\n",
    "sns.heatmap(seg_trans.corr('spearman'),cmap=\"YlGnBu\", annot=True,linewidths=.5)\n",
    "plt.show()"
   ]
  },
  {
   "cell_type": "code",
   "execution_count": 30,
   "metadata": {},
   "outputs": [
    {
     "data": {
      "text/plain": [
       "(0.0, 20000.0)"
      ]
     },
     "execution_count": 30,
     "metadata": {},
     "output_type": "execute_result"
    },
    {
     "data": {
      "image/png": "[encoded data removed]",
      "text/plain": [
       "<Figure size 432x288 with 1 Axes>"
      ]
     },
     "metadata": {
      "needs_background": "light"
     },
     "output_type": "display_data"
    }
   ],
   "source": [
    "sns.scatterplot(data=seg_trans,x='Customer Age',y='Gross Monthly Salary')\n",
    "plt.xlim(0,90)\n",
    "plt.ylim(0,20000)"
   ]
  },
  {
   "cell_type": "code",
   "execution_count": 31,
   "metadata": {},
   "outputs": [
    {
     "data": {
      "image/png": "[encoded data removed]",
      "text/plain": [
       "<Figure size 432x288 with 1 Axes>"
      ]
     },
     "metadata": {
      "needs_background": "light"
     },
     "output_type": "display_data"
    }
   ],
   "source": [
    "sns.scatterplot(data=seg_trans,x='Claims Rate',y='Customer Monetary Value')\n",
    "plt.show()\n",
    "\n",
    "\n"
   ]
  },
  {
   "cell_type": "code",
   "execution_count": 32,
   "metadata": {},
   "outputs": [],
   "source": [
    "cols = seg_trans.columns # one or more\n",
    "\n",
    "Q1 = seg_trans[cols].quantile(0.25)\n",
    "Q3 = seg_trans[cols].quantile(0.75)\n",
    "IQR = Q3 - Q1\n",
    "\n",
    "df_final = seg_trans[~((seg_trans[cols] < (Q1 - 3 * IQR)) |(seg_trans[cols] > (Q3 + 3 * IQR))).any(axis=1)]\n",
    "\n"
   ]
  },
  {
   "cell_type": "code",
   "execution_count": 33,
   "metadata": {},
   "outputs": [
    {
     "data": {
      "text/html": [
       "<div>\n",
       "<style scoped>\n",
       "    .dataframe tbody tr th:only-of-type {\n",
       "        vertical-align: middle;\n",
       "    }\n",
       "\n",
       "    .dataframe tbody tr th {\n",
       "        vertical-align: top;\n",
       "    }\n",
       "\n",
       "    .dataframe thead th {\n",
       "        text-align: right;\n",
       "    }\n",
       "</style>\n",
       "<table border=\"1\" class=\"dataframe\">\n",
       "  <thead>\n",
       "    <tr style=\"text-align: right;\">\n",
       "      <th></th>\n",
       "      <th>First Policy´s Year</th>\n",
       "      <th>Customer Age</th>\n",
       "      <th>Educational Degree</th>\n",
       "      <th>Gross Monthly Salary</th>\n",
       "      <th>Geographic Living Area</th>\n",
       "      <th>Has Children (Y=1)</th>\n",
       "      <th>Customer Monetary Value</th>\n",
       "      <th>Claims Rate</th>\n",
       "      <th>Premiums in LOB: Motor</th>\n",
       "      <th>Premiums in LOB: Household</th>\n",
       "      <th>Premiums in LOB: Health</th>\n",
       "      <th>Premiums in LOB:  Life</th>\n",
       "      <th>Premiums in LOB: Work Compensations</th>\n",
       "    </tr>\n",
       "  </thead>\n",
       "  <tbody>\n",
       "    <tr>\n",
       "      <th>count</th>\n",
       "      <td>9838.000000</td>\n",
       "      <td>9851.000000</td>\n",
       "      <td>9851.000000</td>\n",
       "      <td>9832.000000</td>\n",
       "      <td>9867.000000</td>\n",
       "      <td>9847.000000</td>\n",
       "      <td>9868.000000</td>\n",
       "      <td>9868.000000</td>\n",
       "      <td>9835.000000</td>\n",
       "      <td>9868.000000</td>\n",
       "      <td>9826.000000</td>\n",
       "      <td>9766.000000</td>\n",
       "      <td>9783.000000</td>\n",
       "    </tr>\n",
       "    <tr>\n",
       "      <th>mean</th>\n",
       "      <td>1986.008538</td>\n",
       "      <td>48.737489</td>\n",
       "      <td>1.521673</td>\n",
       "      <td>5085.336961</td>\n",
       "      <td>2.709334</td>\n",
       "      <td>0.709252</td>\n",
       "      <td>213.459994</td>\n",
       "      <td>0.679164</td>\n",
       "      <td>306.258002</td>\n",
       "      <td>189.496732</td>\n",
       "      <td>169.675732</td>\n",
       "      <td>38.063479</td>\n",
       "      <td>37.026652</td>\n",
       "    </tr>\n",
       "    <tr>\n",
       "      <th>std</th>\n",
       "      <td>6.603015</td>\n",
       "      <td>16.912793</td>\n",
       "      <td>0.772505</td>\n",
       "      <td>1923.350019</td>\n",
       "      <td>1.265983</td>\n",
       "      <td>0.454131</td>\n",
       "      <td>242.635749</td>\n",
       "      <td>0.316291</td>\n",
       "      <td>132.390094</td>\n",
       "      <td>203.726274</td>\n",
       "      <td>74.413000</td>\n",
       "      <td>39.942979</td>\n",
       "      <td>38.619508</td>\n",
       "    </tr>\n",
       "    <tr>\n",
       "      <th>min</th>\n",
       "      <td>1974.000000</td>\n",
       "      <td>15.000000</td>\n",
       "      <td>0.000000</td>\n",
       "      <td>665.000000</td>\n",
       "      <td>1.000000</td>\n",
       "      <td>0.000000</td>\n",
       "      <td>-365.840000</td>\n",
       "      <td>0.000000</td>\n",
       "      <td>1.780000</td>\n",
       "      <td>-75.000000</td>\n",
       "      <td>-2.110000</td>\n",
       "      <td>-7.000000</td>\n",
       "      <td>-12.000000</td>\n",
       "    </tr>\n",
       "    <tr>\n",
       "      <th>25%</th>\n",
       "      <td>1980.000000</td>\n",
       "      <td>34.000000</td>\n",
       "      <td>1.000000</td>\n",
       "      <td>3558.000000</td>\n",
       "      <td>1.000000</td>\n",
       "      <td>0.000000</td>\n",
       "      <td>-8.467500</td>\n",
       "      <td>0.393557</td>\n",
       "      <td>205.260000</td>\n",
       "      <td>48.350000</td>\n",
       "      <td>113.020000</td>\n",
       "      <td>9.890000</td>\n",
       "      <td>9.890000</td>\n",
       "    </tr>\n",
       "    <tr>\n",
       "      <th>50%</th>\n",
       "      <td>1986.000000</td>\n",
       "      <td>49.000000</td>\n",
       "      <td>2.000000</td>\n",
       "      <td>5091.000000</td>\n",
       "      <td>3.000000</td>\n",
       "      <td>1.000000</td>\n",
       "      <td>187.090000</td>\n",
       "      <td>0.718891</td>\n",
       "      <td>308.390000</td>\n",
       "      <td>127.800000</td>\n",
       "      <td>164.920000</td>\n",
       "      <td>24.560000</td>\n",
       "      <td>24.670000</td>\n",
       "    </tr>\n",
       "    <tr>\n",
       "      <th>75%</th>\n",
       "      <td>1992.000000</td>\n",
       "      <td>63.000000</td>\n",
       "      <td>2.000000</td>\n",
       "      <td>6621.250000</td>\n",
       "      <td>4.000000</td>\n",
       "      <td>1.000000</td>\n",
       "      <td>396.970000</td>\n",
       "      <td>0.975219</td>\n",
       "      <td>412.190000</td>\n",
       "      <td>274.087500</td>\n",
       "      <td>220.930000</td>\n",
       "      <td>54.010000</td>\n",
       "      <td>52.900000</td>\n",
       "    </tr>\n",
       "    <tr>\n",
       "      <th>max</th>\n",
       "      <td>1998.000000</td>\n",
       "      <td>81.000000</td>\n",
       "      <td>3.000000</td>\n",
       "      <td>10042.000000</td>\n",
       "      <td>4.000000</td>\n",
       "      <td>1.000000</td>\n",
       "      <td>1254.240000</td>\n",
       "      <td>1.620145</td>\n",
       "      <td>585.220000</td>\n",
       "      <td>1011.850000</td>\n",
       "      <td>442.860000</td>\n",
       "      <td>201.370000</td>\n",
       "      <td>194.590000</td>\n",
       "    </tr>\n",
       "  </tbody>\n",
       "</table>\n",
       "</div>"
      ],
      "text/plain": [
       "       First Policy´s Year  Customer Age  Educational Degree  \\\n",
       "count          9838.000000   9851.000000         9851.000000   \n",
       "mean           1986.008538     48.737489            1.521673   \n",
       "std               6.603015     16.912793            0.772505   \n",
       "min            1974.000000     15.000000            0.000000   \n",
       "25%            1980.000000     34.000000            1.000000   \n",
       "50%            1986.000000     49.000000            2.000000   \n",
       "75%            1992.000000     63.000000            2.000000   \n",
       "max            1998.000000     81.000000            3.000000   \n",
       "\n",
       "       Gross Monthly Salary  Geographic Living Area  Has Children (Y=1)  \\\n",
       "count           9832.000000             9867.000000         9847.000000   \n",
       "mean            5085.336961                2.709334            0.709252   \n",
       "std             1923.350019                1.265983            0.454131   \n",
       "min              665.000000                1.000000            0.000000   \n",
       "25%             3558.000000                1.000000            0.000000   \n",
       "50%             5091.000000                3.000000            1.000000   \n",
       "75%             6621.250000                4.000000            1.000000   \n",
       "max            10042.000000                4.000000            1.000000   \n",
       "\n",
       "       Customer Monetary Value  Claims Rate  Premiums in LOB: Motor  \\\n",
       "count              9868.000000  9868.000000             9835.000000   \n",
       "mean                213.459994     0.679164              306.258002   \n",
       "std                 242.635749     0.316291              132.390094   \n",
       "min                -365.840000     0.000000                1.780000   \n",
       "25%                  -8.467500     0.393557              205.260000   \n",
       "50%                 187.090000     0.718891              308.390000   \n",
       "75%                 396.970000     0.975219              412.190000   \n",
       "max                1254.240000     1.620145              585.220000   \n",
       "\n",
       "       Premiums in LOB: Household  Premiums in LOB: Health  \\\n",
       "count                 9868.000000              9826.000000   \n",
       "mean                   189.496732               169.675732   \n",
       "std                    203.726274                74.413000   \n",
       "min                    -75.000000                -2.110000   \n",
       "25%                     48.350000               113.020000   \n",
       "50%                    127.800000               164.920000   \n",
       "75%                    274.087500               220.930000   \n",
       "max                   1011.850000               442.860000   \n",
       "\n",
       "       Premiums in LOB:  Life  Premiums in LOB: Work Compensations  \n",
       "count             9766.000000                          9783.000000  \n",
       "mean                38.063479                            37.026652  \n",
       "std                 39.942979                            38.619508  \n",
       "min                 -7.000000                           -12.000000  \n",
       "25%                  9.890000                             9.890000  \n",
       "50%                 24.560000                            24.670000  \n",
       "75%                 54.010000                            52.900000  \n",
       "max                201.370000                           194.590000  "
      ]
     },
     "execution_count": 33,
     "metadata": {},
     "output_type": "execute_result"
    }
   ],
   "source": [
    "df_final.describe()"
   ]
  },
  {
   "cell_type": "code",
   "execution_count": 34,
   "metadata": {},
   "outputs": [
    {
     "data": {
      "text/plain": [
       "First Policy´s Year                     30\n",
       "Customer Age                            17\n",
       "Educational Degree                      17\n",
       "Gross Monthly Salary                    36\n",
       "Geographic Living Area                   1\n",
       "Has Children (Y=1)                      21\n",
       "Customer Monetary Value                  0\n",
       "Claims Rate                              0\n",
       "Premiums in LOB: Motor                  33\n",
       "Premiums in LOB: Household               0\n",
       "Premiums in LOB: Health                 42\n",
       "Premiums in LOB:  Life                 102\n",
       "Premiums in LOB: Work Compensations     85\n",
       "dtype: int64"
      ]
     },
     "execution_count": 34,
     "metadata": {},
     "output_type": "execute_result"
    }
   ],
   "source": [
    "df_final.isnull().sum()"
   ]
  },
  {
   "cell_type": "code",
   "execution_count": 35,
   "metadata": {},
   "outputs": [
    {
     "data": {
      "image/png": "[encoded data removed]",
      "text/plain": [
       "<Figure size 432x288 with 1 Axes>"
      ]
     },
     "metadata": {
      "needs_background": "light"
     },
     "output_type": "display_data"
    }
   ],
   "source": [
    "df_3=df_final.iloc[:,8:]\n",
    "sns.boxplot(x=\"variable\", y=\"value\", data=pd.melt(df_3))\n",
    "plt.show()"
   ]
  },
  {
   "cell_type": "code",
   "execution_count": 36,
   "metadata": {},
   "outputs": [
    {
     "data": {
      "text/plain": [
       "<AxesSubplot:xlabel='Customer Age', ylabel='Count'>"
      ]
     },
     "execution_count": 36,
     "metadata": {},
     "output_type": "execute_result"
    },
    {
     "data": {
      "image/png": "[encoded data removed]",
      "text/plain": [
       "<Figure size 432x288 with 1 Axes>"
      ]
     },
     "metadata": {
      "needs_background": "light"
     },
     "output_type": "display_data"
    }
   ],
   "source": [
    "sns.histplot(df_final['Customer Age'])"
   ]
  },
  {
   "cell_type": "code",
   "execution_count": 37,
   "metadata": {},
   "outputs": [
    {
     "data": {
      "text/plain": [
       "<AxesSubplot:xlabel='Gross Monthly Salary', ylabel='Count'>"
      ]
     },
     "execution_count": 37,
     "metadata": {},
     "output_type": "execute_result"
    },
    {
     "data": {
      "image/png": "[encoded data removed]",
      "text/plain": [
       "<Figure size 432x288 with 1 Axes>"
      ]
     },
     "metadata": {
      "needs_background": "light"
     },
     "output_type": "display_data"
    }
   ],
   "source": [
    "sns.histplot(df_final['Gross Monthly Salary'])"
   ]
  },
  {
   "cell_type": "code",
   "execution_count": 38,
   "metadata": {},
   "outputs": [
    {
     "data": {
      "text/plain": [
       "<AxesSubplot:xlabel='Customer Monetary Value', ylabel='Count'>"
      ]
     },
     "execution_count": 38,
     "metadata": {},
     "output_type": "execute_result"
    },
    {
     "data": {
      "image/png": "[encoded data removed]",
      "text/plain": [
       "<Figure size 432x288 with 1 Axes>"
      ]
     },
     "metadata": {
      "needs_background": "light"
     },
     "output_type": "display_data"
    }
   ],
   "source": [
    "sns.histplot(df_final['Customer Monetary Value'])"
   ]
  },
  {
   "cell_type": "code",
   "execution_count": 39,
   "metadata": {},
   "outputs": [
    {
     "data": {
      "text/plain": [
       "<AxesSubplot:xlabel='Claims Rate', ylabel='Count'>"
      ]
     },
     "execution_count": 39,
     "metadata": {},
     "output_type": "execute_result"
    },
    {
     "data": {
      "image/png": "[encoded data removed]",
      "text/plain": [
       "<Figure size 432x288 with 1 Axes>"
      ]
     },
     "metadata": {
      "needs_background": "light"
     },
     "output_type": "display_data"
    }
   ],
   "source": [
    "sns.histplot(df_final['Claims Rate'])"
   ]
  },
  {
   "cell_type": "code",
   "execution_count": 40,
   "metadata": {},
   "outputs": [
    {
     "data": {
      "text/plain": [
       "<AxesSubplot:xlabel='Premiums in LOB: Motor', ylabel='Count'>"
      ]
     },
     "execution_count": 40,
     "metadata": {},
     "output_type": "execute_result"
    },
    {
     "data": {
      "image/png": "[encoded data removed]",
      "text/plain": [
       "<Figure size 432x288 with 1 Axes>"
      ]
     },
     "metadata": {
      "needs_background": "light"
     },
     "output_type": "display_data"
    }
   ],
   "source": [
    "sns.histplot(df_final['Premiums in LOB: Motor'])"
   ]
  },
  {
   "cell_type": "code",
   "execution_count": 41,
   "metadata": {},
   "outputs": [
    {
     "data": {
      "text/plain": [
       "<AxesSubplot:xlabel='Premiums in LOB: Household', ylabel='Count'>"
      ]
     },
     "execution_count": 41,
     "metadata": {},
     "output_type": "execute_result"
    },
    {
     "data": {
      "image/png": "[encoded data removed]",
      "text/plain": [
       "<Figure size 432x288 with 1 Axes>"
      ]
     },
     "metadata": {
      "needs_background": "light"
     },
     "output_type": "display_data"
    }
   ],
   "source": [
    "sns.histplot(df_final['Premiums in LOB: Household'])"
   ]
  },
  {
   "cell_type": "code",
   "execution_count": 42,
   "metadata": {},
   "outputs": [
    {
     "data": {
      "text/plain": [
       "<AxesSubplot:xlabel='Premiums in LOB: Health', ylabel='Count'>"
      ]
     },
     "execution_count": 42,
     "metadata": {},
     "output_type": "execute_result"
    },
    {
     "data": {
      "image/png": "[encoded data removed]",
      "text/plain": [
       "<Figure size 432x288 with 1 Axes>"
      ]
     },
     "metadata": {
      "needs_background": "light"
     },
     "output_type": "display_data"
    }
   ],
   "source": [
    "sns.histplot(df_final['Premiums in LOB: Health'])"
   ]
  },
  {
   "cell_type": "code",
   "execution_count": 43,
   "metadata": {},
   "outputs": [
    {
     "data": {
      "text/plain": [
       "<AxesSubplot:xlabel='Premiums in LOB:  Life', ylabel='Count'>"
      ]
     },
     "execution_count": 43,
     "metadata": {},
     "output_type": "execute_result"
    },
    {
     "data": {
      "image/png": "[encoded data removed]",
      "text/plain": [
       "<Figure size 432x288 with 1 Axes>"
      ]
     },
     "metadata": {
      "needs_background": "light"
     },
     "output_type": "display_data"
    }
   ],
   "source": [
    "\n",
    "sns.histplot(df_final['Premiums in LOB:  Life'])\n"
   ]
  },
  {
   "cell_type": "code",
   "execution_count": 44,
   "metadata": {},
   "outputs": [
    {
     "data": {
      "text/plain": [
       "<AxesSubplot:xlabel='Premiums in LOB: Work Compensations', ylabel='Count'>"
      ]
     },
     "execution_count": 44,
     "metadata": {},
     "output_type": "execute_result"
    },
    {
     "data": {
      "image/png": "[encoded data removed]",
      "text/plain": [
       "<Figure size 432x288 with 1 Axes>"
      ]
     },
     "metadata": {
      "needs_background": "light"
     },
     "output_type": "display_data"
    }
   ],
   "source": [
    "sns.histplot(df_final['Premiums in LOB: Work Compensations'])"
   ]
  }
 ],
 "metadata": {
  "interpreter": {
   "hash": "9987c3482d263e4baeb09e65374b31c42c87ad9509d13d0f93ef23210a3bb34b"
  },
  "kernelspec": {
   "display_name": "Python 3 (ipykernel)",
   "language": "python",
   "name": "python3"
  },
  "language_info": {
   "codemirror_mode": {
    "name": "ipython",
    "version": 3
   },
   "file_extension": ".py",
   "mimetype": "text/x-python",
   "name": "python",
   "nbconvert_exporter": "python",
   "pygments_lexer": "ipython3",
   "version": "3.9.12"
  }
 },
 "nbformat": 4,
 "nbformat_minor": 2
}
